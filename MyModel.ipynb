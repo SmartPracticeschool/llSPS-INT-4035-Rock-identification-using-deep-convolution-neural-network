{
 "cells": [
  {
   "cell_type": "markdown",
   "metadata": {
    "colab_type": "text",
    "id": "mXPPqMDCAvKx"
   },
   "source": [
    "Extracting the data of **DATASET**"
   ]
  },
  {
   "cell_type": "code",
   "execution_count": 22,
   "metadata": {
    "colab": {
     "base_uri": "https://localhost:8080/",
     "height": 34
    },
    "colab_type": "code",
    "executionInfo": {
     "elapsed": 891,
     "status": "ok",
     "timestamp": 1595145937988,
     "user": {
      "displayName": "Someone Mysterious",
      "photoUrl": "",
      "userId": "09535622309840162936"
     },
     "user_tz": -330
    },
    "id": "Mqgl5Ss74r_b",
    "outputId": "83d4c551-cbde-4aa9-ef36-53806203b473"
   },
   "outputs": [
    {
     "name": "stdout",
     "output_type": "stream",
     "text": [
      "Done\n"
     ]
    }
   ],
   "source": [
    "from zipfile import ZipFile\n",
    "file_name=\"Reviseddatasetcompressed.zip\"\n",
    "\n",
    "with ZipFile(file_name,'r') as zip:\n",
    "  zip.extractall()\n",
    "  print('Done')"
   ]
  },
  {
   "cell_type": "markdown",
   "metadata": {
    "colab_type": "text",
    "id": "RfZK-qMQA0QR"
   },
   "source": [
    "\n",
    "Importing The **Libraries**"
   ]
  },
  {
   "cell_type": "code",
   "execution_count": 23,
   "metadata": {
    "colab": {},
    "colab_type": "code",
    "executionInfo": {
     "elapsed": 919,
     "status": "ok",
     "timestamp": 1595145941959,
     "user": {
      "displayName": "Someone Mysterious",
      "photoUrl": "",
      "userId": "09535622309840162936"
     },
     "user_tz": -330
    },
    "id": "IQTulNZ8778d"
   },
   "outputs": [],
   "source": [
    "from keras.models import Sequential\n",
    "from keras.layers import Dense\n",
    "from keras.layers import Conv2D\n",
    "from keras.layers import MaxPooling2D\n",
    "from keras.layers import Flatten"
   ]
  },
  {
   "cell_type": "code",
   "execution_count": 24,
   "metadata": {
    "colab": {},
    "colab_type": "code",
    "executionInfo": {
     "elapsed": 961,
     "status": "ok",
     "timestamp": 1595145945431,
     "user": {
      "displayName": "Someone Mysterious",
      "photoUrl": "",
      "userId": "09535622309840162936"
     },
     "user_tz": -330
    },
    "id": "CFglUGUX8ACA"
   },
   "outputs": [],
   "source": [
    "model=Sequential()"
   ]
  },
  {
   "cell_type": "markdown",
   "metadata": {
    "colab_type": "text",
    "id": "wQRcuF97A5XD"
   },
   "source": [
    "Adding **CNN** Layers"
   ]
  },
  {
   "cell_type": "code",
   "execution_count": 25,
   "metadata": {
    "colab": {
     "base_uri": "https://localhost:8080/",
     "height": 71
    },
    "colab_type": "code",
    "executionInfo": {
     "elapsed": 995,
     "status": "ok",
     "timestamp": 1595145947841,
     "user": {
      "displayName": "Someone Mysterious",
      "photoUrl": "",
      "userId": "09535622309840162936"
     },
     "user_tz": -330
    },
    "id": "yy77L2iB8DKw",
    "outputId": "3c45460e-4869-4b02-b4d8-421452fb780f"
   },
   "outputs": [
    {
     "name": "stderr",
     "output_type": "stream",
     "text": [
      "/usr/local/lib/python3.6/dist-packages/ipykernel_launcher.py:1: UserWarning: Update your `Conv2D` call to the Keras 2 API: `Conv2D(32, (3, 3), input_shape=(64, 64, 3..., activation=\"relu\")`\n",
      "  \"\"\"Entry point for launching an IPython kernel.\n"
     ]
    }
   ],
   "source": [
    "model.add(Conv2D(32,3,3,input_shape=(64,64,3),activation='relu'))\n",
    "model.add(MaxPooling2D(pool_size=(2,2)))\n",
    "model.add(Flatten())"
   ]
  },
  {
   "cell_type": "markdown",
   "metadata": {
    "colab_type": "text",
    "id": "p_ftbO2wA-Lg"
   },
   "source": [
    "Adding **Dense** Layers"
   ]
  },
  {
   "cell_type": "code",
   "execution_count": 26,
   "metadata": {
    "colab": {
     "base_uri": "https://localhost:8080/",
     "height": 71
    },
    "colab_type": "code",
    "executionInfo": {
     "elapsed": 908,
     "status": "ok",
     "timestamp": 1595145952653,
     "user": {
      "displayName": "Someone Mysterious",
      "photoUrl": "",
      "userId": "09535622309840162936"
     },
     "user_tz": -330
    },
    "id": "zvi3GEfg8OGi",
    "outputId": "4c90859d-0c0f-412b-adf7-38a4ee816f83"
   },
   "outputs": [
    {
     "name": "stderr",
     "output_type": "stream",
     "text": [
      "/usr/local/lib/python3.6/dist-packages/ipykernel_launcher.py:1: UserWarning: Update your `Dense` call to the Keras 2 API: `Dense(activation=\"relu\", units=128, kernel_initializer=\"random_uniform\")`\n",
      "  \"\"\"Entry point for launching an IPython kernel.\n"
     ]
    }
   ],
   "source": [
    "model.add(Dense(output_dim=128,activation='relu',init='random_uniform'))"
   ]
  },
  {
   "cell_type": "code",
   "execution_count": 27,
   "metadata": {
    "colab": {
     "base_uri": "https://localhost:8080/",
     "height": 71
    },
    "colab_type": "code",
    "executionInfo": {
     "elapsed": 1009,
     "status": "ok",
     "timestamp": 1595145954917,
     "user": {
      "displayName": "Someone Mysterious",
      "photoUrl": "",
      "userId": "09535622309840162936"
     },
     "user_tz": -330
    },
    "id": "iqgG26Jn8Q_K",
    "outputId": "1fa9cff8-afcb-40d3-97ee-b5a75e417a71"
   },
   "outputs": [
    {
     "name": "stderr",
     "output_type": "stream",
     "text": [
      "/usr/local/lib/python3.6/dist-packages/ipykernel_launcher.py:1: UserWarning: Update your `Dense` call to the Keras 2 API: `Dense(activation=\"softmax\", units=3, kernel_initializer=\"random_uniform\")`\n",
      "  \"\"\"Entry point for launching an IPython kernel.\n"
     ]
    }
   ],
   "source": [
    "model.add(Dense(output_dim=3,activation='softmax',init='random_uniform'))"
   ]
  },
  {
   "cell_type": "markdown",
   "metadata": {
    "colab_type": "text",
    "id": "ddyhjxx6BLSV"
   },
   "source": [
    "**PreProcessing Of Data**"
   ]
  },
  {
   "cell_type": "code",
   "execution_count": 28,
   "metadata": {
    "colab": {},
    "colab_type": "code",
    "executionInfo": {
     "elapsed": 908,
     "status": "ok",
     "timestamp": 1595145960487,
     "user": {
      "displayName": "Someone Mysterious",
      "photoUrl": "",
      "userId": "09535622309840162936"
     },
     "user_tz": -330
    },
    "id": "lkOf3m9D8T_n"
   },
   "outputs": [],
   "source": [
    "from keras.preprocessing.image import ImageDataGenerator"
   ]
  },
  {
   "cell_type": "code",
   "execution_count": 29,
   "metadata": {
    "colab": {},
    "colab_type": "code",
    "executionInfo": {
     "elapsed": 908,
     "status": "ok",
     "timestamp": 1595145963620,
     "user": {
      "displayName": "Someone Mysterious",
      "photoUrl": "",
      "userId": "09535622309840162936"
     },
     "user_tz": -330
    },
    "id": "YKjchgq98WB8"
   },
   "outputs": [],
   "source": [
    "train_datagen=ImageDataGenerator(rescale=1./255,shear_range=0.2,zoom_range=0.2,horizontal_flip=True,vertical_flip=True,fill_mode='nearest')\n",
    "test_datagen=ImageDataGenerator(rescale=1./255)"
   ]
  },
  {
   "cell_type": "code",
   "execution_count": 30,
   "metadata": {
    "colab": {
     "base_uri": "https://localhost:8080/",
     "height": 51
    },
    "colab_type": "code",
    "executionInfo": {
     "elapsed": 1034,
     "status": "ok",
     "timestamp": 1595145965745,
     "user": {
      "displayName": "Someone Mysterious",
      "photoUrl": "",
      "userId": "09535622309840162936"
     },
     "user_tz": -330
    },
    "id": "6zQ2s78L8YtA",
    "outputId": "e687065e-dace-4aad-e8f8-4f65acd5e536"
   },
   "outputs": [
    {
     "name": "stdout",
     "output_type": "stream",
     "text": [
      "Found 210 images belonging to 3 classes.\n",
      "Found 90 images belonging to 3 classes.\n"
     ]
    }
   ],
   "source": [
    "x_train=train_datagen.flow_from_directory(r'Trainset',target_size=(64,64),batch_size=8,class_mode='categorical')\n",
    "x_test=train_datagen.flow_from_directory(r'Testset',target_size=(64,64),batch_size=8,class_mode='categorical')"
   ]
  },
  {
   "cell_type": "code",
   "execution_count": 31,
   "metadata": {
    "colab": {
     "base_uri": "https://localhost:8080/",
     "height": 34
    },
    "colab_type": "code",
    "executionInfo": {
     "elapsed": 1000,
     "status": "ok",
     "timestamp": 1595145967580,
     "user": {
      "displayName": "Someone Mysterious",
      "photoUrl": "",
      "userId": "09535622309840162936"
     },
     "user_tz": -330
    },
    "id": "WzYnCxkN8bZS",
    "outputId": "29ca2a9d-a6f0-4018-fb2f-f431de5e59c6"
   },
   "outputs": [
    {
     "name": "stdout",
     "output_type": "stream",
     "text": [
      "{'Igneous': 0, 'Metamorphic': 1, 'Sedimentary': 2}\n"
     ]
    }
   ],
   "source": [
    "print(x_train.class_indices)"
   ]
  },
  {
   "cell_type": "markdown",
   "metadata": {
    "colab_type": "text",
    "id": "94nso2DhBQNP"
   },
   "source": [
    "**Compiling The Model**"
   ]
  },
  {
   "cell_type": "code",
   "execution_count": 32,
   "metadata": {
    "colab": {},
    "colab_type": "code",
    "executionInfo": {
     "elapsed": 879,
     "status": "ok",
     "timestamp": 1595145971002,
     "user": {
      "displayName": "Someone Mysterious",
      "photoUrl": "",
      "userId": "09535622309840162936"
     },
     "user_tz": -330
    },
    "id": "Ic8lgM878dhd"
   },
   "outputs": [],
   "source": [
    "model.compile(optimizer='adam',loss='categorical_crossentropy',metrics=['accuracy'])"
   ]
  },
  {
   "cell_type": "markdown",
   "metadata": {
    "colab_type": "text",
    "id": "bAxgknmLBR-1"
   },
   "source": [
    "**Training The Model**"
   ]
  },
  {
   "cell_type": "code",
   "execution_count": 33,
   "metadata": {
    "colab": {
     "base_uri": "https://localhost:8080/",
     "height": 1000
    },
    "colab_type": "code",
    "executionInfo": {
     "elapsed": 319869,
     "status": "ok",
     "timestamp": 1595146293498,
     "user": {
      "displayName": "Someone Mysterious",
      "photoUrl": "",
      "userId": "09535622309840162936"
     },
     "user_tz": -330
    },
    "id": "Qf-AjR6p8f74",
    "outputId": "52fe9cd2-41e3-4601-e866-6582c62b583e"
   },
   "outputs": [
    {
     "name": "stderr",
     "output_type": "stream",
     "text": [
      "/usr/local/lib/python3.6/dist-packages/ipykernel_launcher.py:1: UserWarning: Update your `fit_generator` call to the Keras 2 API: `fit_generator(<keras.pre..., epochs=40, validation_data=<keras.pre..., validation_steps=90, steps_per_epoch=26)`\n",
      "  \"\"\"Entry point for launching an IPython kernel.\n"
     ]
    },
    {
     "name": "stdout",
     "output_type": "stream",
     "text": [
      "Epoch 1/40\n",
      "26/26 [==============================] - 8s 306ms/step - loss: 1.2540 - accuracy: 0.3020 - val_loss: 1.0905 - val_accuracy: 0.4676\n",
      "Epoch 2/40\n",
      "26/26 [==============================] - 12s 451ms/step - loss: 1.0626 - accuracy: 0.4257 - val_loss: 1.5276 - val_accuracy: 0.4092\n",
      "Epoch 3/40\n",
      "26/26 [==============================] - 8s 307ms/step - loss: 1.0155 - accuracy: 0.4950 - val_loss: 0.9720 - val_accuracy: 0.4676\n",
      "Epoch 4/40\n",
      "26/26 [==============================] - 8s 304ms/step - loss: 1.0166 - accuracy: 0.4752 - val_loss: 0.5905 - val_accuracy: 0.4985\n",
      "Epoch 5/40\n",
      "26/26 [==============================] - 8s 304ms/step - loss: 0.9573 - accuracy: 0.5288 - val_loss: 0.9280 - val_accuracy: 0.5339\n",
      "Epoch 6/40\n",
      "26/26 [==============================] - 8s 301ms/step - loss: 0.9359 - accuracy: 0.5561 - val_loss: 1.5869 - val_accuracy: 0.5446\n",
      "Epoch 7/40\n",
      "26/26 [==============================] - 8s 304ms/step - loss: 0.9325 - accuracy: 0.5673 - val_loss: 1.1202 - val_accuracy: 0.5354\n",
      "Epoch 8/40\n",
      "26/26 [==============================] - 8s 301ms/step - loss: 0.9353 - accuracy: 0.5765 - val_loss: 1.1778 - val_accuracy: 0.5283\n",
      "Epoch 9/40\n",
      "26/26 [==============================] - 8s 302ms/step - loss: 0.9095 - accuracy: 0.5865 - val_loss: 1.1432 - val_accuracy: 0.4690\n",
      "Epoch 10/40\n",
      "26/26 [==============================] - 8s 299ms/step - loss: 0.8718 - accuracy: 0.6071 - val_loss: 0.8645 - val_accuracy: 0.5015\n",
      "Epoch 11/40\n",
      "26/26 [==============================] - 8s 306ms/step - loss: 0.8495 - accuracy: 0.5941 - val_loss: 1.0804 - val_accuracy: 0.5664\n",
      "Epoch 12/40\n",
      "26/26 [==============================] - 8s 303ms/step - loss: 0.8315 - accuracy: 0.6587 - val_loss: 1.3900 - val_accuracy: 0.5491\n",
      "Epoch 13/40\n",
      "26/26 [==============================] - 8s 296ms/step - loss: 0.8471 - accuracy: 0.6224 - val_loss: 1.2453 - val_accuracy: 0.5472\n",
      "Epoch 14/40\n",
      "26/26 [==============================] - 8s 309ms/step - loss: 0.8216 - accuracy: 0.6436 - val_loss: 1.6929 - val_accuracy: 0.4866\n",
      "Epoch 15/40\n",
      "26/26 [==============================] - 8s 302ms/step - loss: 0.7794 - accuracy: 0.6683 - val_loss: 0.8269 - val_accuracy: 0.5678\n",
      "Epoch 16/40\n",
      "26/26 [==============================] - 8s 296ms/step - loss: 0.8274 - accuracy: 0.6173 - val_loss: 1.2364 - val_accuracy: 0.5164\n",
      "Epoch 17/40\n",
      "26/26 [==============================] - 8s 298ms/step - loss: 0.8115 - accuracy: 0.6538 - val_loss: 0.7382 - val_accuracy: 0.6077\n",
      "Epoch 18/40\n",
      "26/26 [==============================] - 8s 296ms/step - loss: 0.7387 - accuracy: 0.6733 - val_loss: 1.1045 - val_accuracy: 0.6280\n",
      "Epoch 19/40\n",
      "26/26 [==============================] - 8s 302ms/step - loss: 0.7678 - accuracy: 0.6224 - val_loss: 1.0129 - val_accuracy: 0.5664\n",
      "Epoch 20/40\n",
      "26/26 [==============================] - 8s 305ms/step - loss: 0.7347 - accuracy: 0.6779 - val_loss: 0.9690 - val_accuracy: 0.5848\n",
      "Epoch 21/40\n",
      "26/26 [==============================] - 8s 300ms/step - loss: 0.7129 - accuracy: 0.7347 - val_loss: 0.6222 - val_accuracy: 0.5870\n",
      "Epoch 22/40\n",
      "26/26 [==============================] - 8s 298ms/step - loss: 0.6905 - accuracy: 0.7163 - val_loss: 0.8816 - val_accuracy: 0.5595\n",
      "Epoch 23/40\n",
      "26/26 [==============================] - 8s 295ms/step - loss: 0.6563 - accuracy: 0.7277 - val_loss: 0.7402 - val_accuracy: 0.6077\n",
      "Epoch 24/40\n",
      "26/26 [==============================] - 8s 308ms/step - loss: 0.6423 - accuracy: 0.6939 - val_loss: 0.1540 - val_accuracy: 0.5342\n",
      "Epoch 25/40\n",
      "26/26 [==============================] - 8s 299ms/step - loss: 0.6211 - accuracy: 0.7548 - val_loss: 0.7920 - val_accuracy: 0.6416\n",
      "Epoch 26/40\n",
      "26/26 [==============================] - 8s 303ms/step - loss: 0.6482 - accuracy: 0.7327 - val_loss: 0.6938 - val_accuracy: 0.5744\n",
      "Epoch 27/40\n",
      "26/26 [==============================] - 8s 304ms/step - loss: 0.6077 - accuracy: 0.7376 - val_loss: 0.6793 - val_accuracy: 0.6077\n",
      "Epoch 28/40\n",
      "26/26 [==============================] - 8s 294ms/step - loss: 0.5845 - accuracy: 0.7624 - val_loss: 1.1463 - val_accuracy: 0.5908\n",
      "Epoch 29/40\n",
      "26/26 [==============================] - 8s 305ms/step - loss: 0.5932 - accuracy: 0.7772 - val_loss: 0.3984 - val_accuracy: 0.6475\n",
      "Epoch 30/40\n",
      "26/26 [==============================] - 8s 307ms/step - loss: 0.5546 - accuracy: 0.7871 - val_loss: 1.2242 - val_accuracy: 0.6161\n",
      "Epoch 31/40\n",
      "26/26 [==============================] - 8s 312ms/step - loss: 0.5540 - accuracy: 0.7673 - val_loss: 1.7179 - val_accuracy: 0.5560\n",
      "Epoch 32/40\n",
      "26/26 [==============================] - 8s 302ms/step - loss: 0.5551 - accuracy: 0.7885 - val_loss: 0.7210 - val_accuracy: 0.6310\n",
      "Epoch 33/40\n",
      "26/26 [==============================] - 8s 304ms/step - loss: 0.4830 - accuracy: 0.8112 - val_loss: 0.6352 - val_accuracy: 0.6327\n",
      "Epoch 34/40\n",
      "26/26 [==============================] - 8s 311ms/step - loss: 0.5793 - accuracy: 0.7822 - val_loss: 0.5588 - val_accuracy: 0.6473\n",
      "Epoch 35/40\n",
      "26/26 [==============================] - 8s 306ms/step - loss: 0.5002 - accuracy: 0.8119 - val_loss: 0.4465 - val_accuracy: 0.6239\n",
      "Epoch 36/40\n",
      "26/26 [==============================] - 8s 305ms/step - loss: 0.4518 - accuracy: 0.8614 - val_loss: 0.7649 - val_accuracy: 0.6964\n",
      "Epoch 37/40\n",
      "26/26 [==============================] - 8s 304ms/step - loss: 0.5020 - accuracy: 0.8119 - val_loss: 0.5388 - val_accuracy: 0.6696\n",
      "Epoch 38/40\n",
      "26/26 [==============================] - 8s 300ms/step - loss: 0.4494 - accuracy: 0.8267 - val_loss: 0.2906 - val_accuracy: 0.6354\n",
      "Epoch 39/40\n",
      "26/26 [==============================] - 8s 300ms/step - loss: 0.5368 - accuracy: 0.7723 - val_loss: 0.5212 - val_accuracy: 0.6667\n",
      "Epoch 40/40\n",
      "26/26 [==============================] - 8s 297ms/step - loss: 0.4081 - accuracy: 0.8614 - val_loss: 1.0073 - val_accuracy: 0.6384\n"
     ]
    },
    {
     "data": {
      "text/plain": [
       "<keras.callbacks.callbacks.History at 0x7f1cb9f7a940>"
      ]
     },
     "execution_count": 33,
     "metadata": {
      "tags": []
     },
     "output_type": "execute_result"
    }
   ],
   "source": [
    "model.fit_generator(x_train,samples_per_epoch=210,epochs=40,validation_data=x_test,validation_steps=90)"
   ]
  },
  {
   "cell_type": "markdown",
   "metadata": {
    "colab_type": "text",
    "id": "y2DyCREwBbPT"
   },
   "source": [
    "**Save The Model**"
   ]
  },
  {
   "cell_type": "code",
   "execution_count": 34,
   "metadata": {
    "colab": {},
    "colab_type": "code",
    "executionInfo": {
     "elapsed": 872,
     "status": "ok",
     "timestamp": 1595146305862,
     "user": {
      "displayName": "Someone Mysterious",
      "photoUrl": "",
      "userId": "09535622309840162936"
     },
     "user_tz": -330
    },
    "id": "Rp7VslQt8iUQ"
   },
   "outputs": [],
   "source": [
    "model.save('mymodell.h5')"
   ]
  },
  {
   "cell_type": "code",
   "execution_count": 35,
   "metadata": {
    "colab": {},
    "colab_type": "code",
    "executionInfo": {
     "elapsed": 1314,
     "status": "ok",
     "timestamp": 1595146308177,
     "user": {
      "displayName": "Someone Mysterious",
      "photoUrl": "",
      "userId": "09535622309840162936"
     },
     "user_tz": -330
    },
    "id": "wb6m12EzBlNK"
   },
   "outputs": [],
   "source": [
    "from keras.models import load_model\n",
    "import numpy as np\n",
    "import cv2\n",
    "model=load_model('mymodell.h5')"
   ]
  },
  {
   "cell_type": "code",
   "execution_count": 36,
   "metadata": {
    "colab": {},
    "colab_type": "code",
    "executionInfo": {
     "elapsed": 656,
     "status": "ok",
     "timestamp": 1595146309425,
     "user": {
      "displayName": "Someone Mysterious",
      "photoUrl": "",
      "userId": "09535622309840162936"
     },
     "user_tz": -330
    },
    "id": "UEyQwquEEXo2"
   },
   "outputs": [],
   "source": [
    "model.compile(optimizer='adam',loss='categorical_crossentropy')"
   ]
  },
  {
   "cell_type": "code",
   "execution_count": 37,
   "metadata": {
    "colab": {},
    "colab_type": "code",
    "executionInfo": {
     "elapsed": 938,
     "status": "ok",
     "timestamp": 1595146311288,
     "user": {
      "displayName": "Someone Mysterious",
      "photoUrl": "",
      "userId": "09535622309840162936"
     },
     "user_tz": -330
    },
    "id": "hr52n3XQEl5S"
   },
   "outputs": [],
   "source": [
    "from skimage.transform import resize\n",
    "def detect(frame):\n",
    "  try:\n",
    "    img=resize(frame,(64,64))\n",
    "    img=np.expand_dims(img,axis=0)\n",
    "    if(np.max(img)>1):\n",
    "      img=img/255.0\n",
    "    prediction=model.predict(img)\n",
    "    print(prediction)\n",
    "    prediction_class=model.predict_classes(img)\n",
    "    print(prediction_class)\n",
    "  except AttributionError:\n",
    "    print(\"Shape not found\")"
   ]
  },
  {
   "cell_type": "code",
   "execution_count": 38,
   "metadata": {
    "colab": {
     "base_uri": "https://localhost:8080/",
     "height": 51
    },
    "colab_type": "code",
    "executionInfo": {
     "elapsed": 1893,
     "status": "ok",
     "timestamp": 1595146313837,
     "user": {
      "displayName": "Someone Mysterious",
      "photoUrl": "",
      "userId": "09535622309840162936"
     },
     "user_tz": -330
    },
    "id": "s7zyL0pUGJ8_",
    "outputId": "6ca894ab-dade-4c64-dd05-aad2e37fd2fc"
   },
   "outputs": [
    {
     "name": "stdout",
     "output_type": "stream",
     "text": [
      "[[0.6920485  0.03280146 0.27515003]]\n",
      "[0]\n"
     ]
    }
   ],
   "source": [
    "frame=cv2.imread(\"Igneous.jpg\")\n",
    "data=detect(frame)"
   ]
  },
  {
   "cell_type": "code",
   "execution_count": null,
   "metadata": {
    "colab": {},
    "colab_type": "code",
    "id": "uB3vnIQbGuLv"
   },
   "outputs": [],
   "source": []
  }
 ],
 "metadata": {
  "colab": {
   "authorship_tag": "ABX9TyMKvKRnk+EeZkBCuFZM5AJa",
   "collapsed_sections": [],
   "name": "MyModel.ipynb",
   "provenance": []
  },
  "kernelspec": {
   "display_name": "Python 3",
   "language": "python",
   "name": "python3"
  },
  "language_info": {
   "codemirror_mode": {
    "name": "ipython",
    "version": 3
   },
   "file_extension": ".py",
   "mimetype": "text/x-python",
   "name": "python",
   "nbconvert_exporter": "python",
   "pygments_lexer": "ipython3",
   "version": "3.7.6"
  }
 },
 "nbformat": 4,
 "nbformat_minor": 1
}
